{
 "cells": [
  {
   "cell_type": "code",
   "execution_count": 1,
   "id": "367e7515",
   "metadata": {},
   "outputs": [
    {
     "name": "stdout",
     "output_type": "stream",
     "text": [
      "Populating the interactive namespace from numpy and matplotlib\n"
     ]
    }
   ],
   "source": [
    "%pylab inline"
   ]
  },
  {
   "cell_type": "code",
   "execution_count": 2,
   "id": "a59248af",
   "metadata": {},
   "outputs": [],
   "source": [
    "wvl = 642         # wavelength [nm]\n",
    "NA = 1.4          # numerical aperture \n",
    "n = 1.0          # refractive index of propagating medium\n",
    "pixel_size = 2*6.45  # effective camera pixel size [nm]\n",
    "chip_size = 256     # pixels\n",
    "\n",
    "def widefield_psf_2d(wvl, NA, n, pixel_size, chip_size, z=0.0):\n",
    "    \"\"\"\n",
    "    Construct the electric field for a widefield PSF in 2d.\n",
    "    \n",
    "    Parameters\n",
    "    ----------\n",
    "    wvl : float\n",
    "        Wavelength of emitted light in nm.\n",
    "    NA : float\n",
    "        Numerical aperture of the optical system\n",
    "    n : float\n",
    "        Refractive index surrounding point source\n",
    "    pixel_size : float\n",
    "        Effective pixel size of camera chip in nm\n",
    "    chip_size : int\n",
    "        How many pixels on the camera chip?\n",
    "    z : float\n",
    "        Depth from focus\n",
    "        \n",
    "    Returns\n",
    "    -------\n",
    "    psf : np.array \n",
    "        Array of np.complex values describing electric field of the PSF.\n",
    "    \"\"\"\n",
    "    # Create frequency space\n",
    "    # f = np.arange(-chip_size//2,chip_size//2)/(pixel_size*chip_size) # <cycles per chip>*<cycle size [nm^-1]>\n",
    "    # If f above is used, we need an additional ifftshift\n",
    "    f = np.fft.fftfreq(chip_size, pixel_size)*wvl/n\n",
    "    X, Y = np.meshgrid(f,f)\n",
    "\n",
    "    # Create an aperture in frequency space\n",
    "    # Clip on 1/<spatial resolution of the system> (spatial frequency)\n",
    "    # Note the \"missing\" factor of 2 since we are thresholding on radius\n",
    "    # rescale by refractive index\n",
    "    aperture = (X*X+Y*Y) < (NA/n)**2\n",
    "\n",
    "    # The pupil can also contain aberrations, but they must\n",
    "    # be clipped by aperture \n",
    "    k = 2.0*np.pi/(n*wvl)\n",
    "    pf = np.exp(1j*k*z*np.sqrt(1-np.minimum(X*X+Y*Y,1)))\n",
    "    pupil = aperture*pf\n",
    "\n",
    "    # Take the inverse fourier transform of the pupil\n",
    "    # to get the point spread function\n",
    "    psf = np.fft.fftshift(np.fft.ifft2(np.fft.ifftshift(pupil)))\n",
    "    \n",
    "    return psf\n",
    "\n",
    "def amplitude_psf(psf):\n",
    "    \"\"\" Return the amplitude of a PSF, described by its electric field. \"\"\"\n",
    "    return np.abs(psf)\n",
    "\n",
    "def intensity_psf(psf):\n",
    "    \"\"\" Return the intensity of a PSF, described by its electric field. \"\"\"\n",
    "    return np.abs(psf*np.conj(psf))\n",
    "\n",
    "# psf = widefield_psf_2d(wvl, NA, n, pixel_size, chip_size)\n",
    "res_z = 2*wvl/(NA*NA)\n",
    "psf_z = np.array([widefield_psf_2d(wvl, NA, n, pixel_size, chip_size,z=i) for i in np.linspace(-res_z,res_z,chip_size)])"
   ]
  },
  {
   "cell_type": "code",
   "execution_count": 3,
   "id": "d1838401-a9c1-4bc0-887a-e12708c20db2",
   "metadata": {},
   "outputs": [
    {
     "data": {
      "image/png": "[encoded data removed]",
      "text/plain": [
       "<Figure size 864x432 with 2 Axes>"
      ]
     },
     "metadata": {},
     "output_type": "display_data"
    }
   ],
   "source": [
    "fig, axs = plt.subplots(1,2,figsize=(12,6))\n",
    "axs[0].imshow(intensity_psf(psf_z[:,psf_z.shape[1]//2,chip_size//4:-chip_size//4]).T, cmap='gray')\n",
    "axs[0].annotate(\"\", xy=(40, chip_size//2-20), xytext=(20, chip_size//2-20),\n",
    "            arrowprops=dict(arrowstyle=\"->\",color='white',linewidth=2),\n",
    "            color='white')\n",
    "axs[0].annotate(\"\", xy=(21, chip_size//2-39), xytext=(21, chip_size//2-19),\n",
    "            arrowprops=dict(arrowstyle=\"->\",color='white',linewidth=2),\n",
    "            color='white')\n",
    "axs[0].annotate(\"z\", xy=(25, chip_size//2-9),color=\"white\",fontsize=12)\n",
    "axs[0].annotate(\"x\", xy=(10, chip_size//2-25),color=\"white\",fontsize=12)\n",
    "axs[0].set_xticks([])\n",
    "axs[0].set_yticks([])\n",
    "axs[1].imshow(intensity_psf(np.fft.ifftshift(np.fft.fft2(intensity_psf(psf_z[:,psf_z.shape[1]//2,:]))))[:,chip_size//4:-chip_size//4].T,cmap='gray')\n",
    "axs[1].annotate(\"\", xy=(40, chip_size//2-20), xytext=(20, chip_size//2-20),\n",
    "            arrowprops=dict(arrowstyle=\"->\",color='white',linewidth=2),\n",
    "            color='white')\n",
    "axs[1].annotate(\"\", xy=(21, chip_size//2-39), xytext=(21, chip_size//2-19),\n",
    "            arrowprops=dict(arrowstyle=\"->\",color='white',linewidth=2),\n",
    "            color='white')\n",
    "axs[1].annotate(\"k$_z$\", xy=(25, chip_size//2-9),color=\"white\",fontsize=12)\n",
    "axs[1].annotate(\"k$_x$\", xy=(10, chip_size//2-25),color=\"white\",fontsize=12)\n",
    "axs[1].set_xticks([])\n",
    "axs[1].set_yticks([])\n",
    "fig.tight_layout()"
   ]
  },
  {
   "cell_type": "code",
   "execution_count": null,
   "id": "e65ffd81-7eac-4ac2-a98e-3233a0467d01",
   "metadata": {},
   "outputs": [],
   "source": []
  },
  {
   "cell_type": "code",
   "execution_count": null,
   "id": "44005fc3-99f6-4ed0-b71c-59acdf81f0dc",
   "metadata": {},
   "outputs": [],
   "source": []
  }
 ],
 "metadata": {
  "kernelspec": {
   "display_name": "pyme",
   "language": "python",
   "name": "pyme"
  },
  "language_info": {
   "codemirror_mode": {
    "name": "ipython",
    "version": 3
   },
   "file_extension": ".py",
   "mimetype": "text/x-python",
   "name": "python",
   "nbconvert_exporter": "python",
   "pygments_lexer": "ipython3",
   "version": "3.7.6"
  }
 },
 "nbformat": 4,
 "nbformat_minor": 5
}
