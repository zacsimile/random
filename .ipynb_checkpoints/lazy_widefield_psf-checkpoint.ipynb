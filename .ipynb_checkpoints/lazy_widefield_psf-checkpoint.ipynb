{
 "cells": [
  {
   "cell_type": "code",
   "execution_count": 1,
   "id": "367e7515",
   "metadata": {},
   "outputs": [
    {
     "name": "stdout",
     "output_type": "stream",
     "text": [
      "Populating the interactive namespace from numpy and matplotlib\n"
     ]
    }
   ],
   "source": [
    "%pylab inline"
   ]
  },
  {
   "cell_type": "code",
   "execution_count": 351,
   "id": "a59248af",
   "metadata": {},
   "outputs": [],
   "source": [
    "wvl = 488         # wavelength [nm]\n",
    "NA = 1.2          # numerical aperture \n",
    "n = 1.33          # refractive index of propagating medium\n",
    "pixel_size = 50  # effective camera pixel size [nm]\n",
    "chip_size = 128     # pixels\n",
    "\n",
    "def widefield_psf_2d(wvl, NA, n, pixel_size, chip_size, z=0.0):\n",
    "    \"\"\"\n",
    "    Construct the electric field for a widefield PSF in 2d.\n",
    "    \n",
    "    Parameters\n",
    "    ----------\n",
    "    wvl : float\n",
    "        Wavelength of emitted light in nm.\n",
    "    NA : float\n",
    "        Numerical aperture of the optical system\n",
    "    n : float\n",
    "        Refractive index surrounding point source\n",
    "    pixel_size : float\n",
    "        Effective pixel size of camera chip in nm\n",
    "    chip_size : int\n",
    "        How many pixels on the camera chip?\n",
    "    z : float\n",
    "        Depth from focus\n",
    "        \n",
    "    Returns\n",
    "    -------\n",
    "    psf : np.array \n",
    "        Array of np.complex values describing electric field of the PSF.\n",
    "    \"\"\"\n",
    "    # Create frequency space\n",
    "    # f = np.arange(-chip_size//2,chip_size//2)/(pixel_size*chip_size) # <cycles per chip>*<cycle size [nm^-1]>\n",
    "    # If f above is used, we need an additional ifftshift\n",
    "    f = np.fft.fftfreq(chip_size, pixel_size)*wvl/n\n",
    "    X, Y = np.meshgrid(f,f)\n",
    "\n",
    "    # Create an aperture in frequency space\n",
    "    # Clip on 1/<spatial resolution of the system> (spatial frequency)\n",
    "    # Note the \"missing\" factor of 2 since we are thresholding on radius\n",
    "    # rescale by refractive index\n",
    "    aperture = (X*X+Y*Y) <= (NA/n)**2\n",
    "\n",
    "    # The pupil can also contain aberrations, but they must\n",
    "    # be clipped by aperture \n",
    "    k = 2.0*np.pi/(n*wvl)\n",
    "    pf = np.exp(1j*k*z*np.sqrt(1-np.minimum(X*X+Y*Y,1)))\n",
    "    pupil = aperture*pf\n",
    "\n",
    "    # Take the inverse fourier transform of the pupil\n",
    "    # to get the point spread function\n",
    "    psf = np.fft.fftshift(np.fft.ifft2(np.fft.ifftshift(pupil)))\n",
    "    \n",
    "    return psf\n",
    "\n",
    "def amplitude_psf(psf):\n",
    "    \"\"\" Return the amplitude of a PSF, described by its electric field. \"\"\"\n",
    "    return np.abs(psf)\n",
    "\n",
    "def intensity_psf(psf):\n",
    "    \"\"\" Return the intensity of a PSF, described by its electric field. \"\"\"\n",
    "    return np.abs(psf*np.conj(psf))\n",
    "\n",
    "# psf = widefield_psf_2d(wvl, NA, n, pixel_size, chip_size)\n",
    "res_z = 2*wvl/(NA*NA)\n",
    "psf_z = np.array([widefield_psf_2d(wvl, NA, n, pixel_size, chip_size,z=i) for i in np.arange(-chip_size//2,chip_size//2)*2*pixel_size])\n"
   ]
  },
  {
   "cell_type": "code",
   "execution_count": 368,
   "id": "d1838401-a9c1-4bc0-887a-e12708c20db2",
   "metadata": {},
   "outputs": [
    {
     "data": {
      "image/png": "[encoded data removed]",
      "text/plain": [
       "<Figure size 864x432 with 2 Axes>"
      ]
     },
     "metadata": {},
     "output_type": "display_data"
    }
   ],
   "source": [
    "fig, axs = plt.subplots(1,2,figsize=(12,6))\n",
    "n_steps=chip_size\n",
    "offset = chip_size//2+n_steps//8\n",
    "fs = 24\n",
    "sl = slice(chip_size//2-n_steps//4,chip_size//2+n_steps//4)\n",
    "psf_im = intensity_psf(psf_z[sl,psf_z.shape[1]//2,sl]).T\n",
    "axs[0].imshow(psf_im, cmap='gray',vmax=1.5e-3)\n",
    "axs[0].annotate(\"\", xy=(offset//12, 5*offset//12), xytext=(offset//12, 2*offset//6),\n",
    "            arrowprops=dict(arrowstyle=\"->\",color='white',linewidth=2),\n",
    "            color='white')\n",
    "axs[0].annotate(\"\", xy=(offset, offset-39), xytext=(offset, offset-19),\n",
    "            arrowprops=dict(arrowstyle=\"->\",color='white',linewidth=2),\n",
    "            color='white')\n",
    "axs[0].annotate(\"z\", xy=(offset, offset-9),color=\"white\",fontsize=fs)\n",
    "axs[0].annotate(\"x\", xy=(offset, offset-25),color=\"white\",fontsize=fs)\n",
    "axs[0].set_xticks([])\n",
    "axs[0].set_yticks([])\n",
    "\n",
    "otf_im = intensity_psf(np.fft.ifftshift(np.fft.fft2(intensity_psf(psf_z[:,psf_z.shape[1]//2,:]))))[sl,sl].T\n",
    "axs[1].imshow(otf_im,cmap='gray',vmax=3e-2)\n",
    "axs[1].annotate(\"\", xy=(20, offset-25), xytext=(10, offset-25),\n",
    "            arrowprops=dict(arrowstyle=\"->\",color='white',linewidth=2),\n",
    "            color='white')\n",
    "axs[1].annotate(\"\", xy=(10, offset-34.6), xytext=(10, offset-24.6),\n",
    "            arrowprops=dict(arrowstyle=\"->\",color='white',linewidth=2),\n",
    "            color='white')\n",
    "axs[1].annotate(\"k$_z$\", xy=(25, offset-24.6),color=\"white\",fontsize=fs)\n",
    "axs[1].annotate(\"k$_x$\", xy=(10, offset-25),color=\"white\",fontsize=fs)\n",
    "axs[1].set_xticks([])\n",
    "axs[1].set_yticks([])\n",
    "fig.tight_layout()\n",
    "plt.savefig('introduction-simple-psf.png', dpi=600)"
   ]
  },
  {
   "cell_type": "code",
   "execution_count": null,
   "id": "a2ed74eb-f905-4b32-a077-3e38c35556df",
   "metadata": {},
   "outputs": [
    {
     "data": {
      "text/plain": [
       "<matplotlib.image.AxesImage at 0x7fc64877ed50>"
      ]
     },
     "execution_count": 353,
     "metadata": {},
     "output_type": "execute_result"
    },
    {
     "data": {
      "image/png": "[encoded data removed]",
      "text/plain": [
       "<Figure size 432x288 with 1 Axes>"
      ]
     },
     "metadata": {
      "needs_background": "light"
     },
     "output_type": "display_data"
    }
   ],
   "source": [
    "imshow(intensity_psf(psf_z[:,psf_z.shape[1]//2,:]).T, cmap='gray',vmax=1.5e-3)"
   ]
  },
  {
   "cell_type": "code",
   "execution_count": null,
   "id": "e2b03efc-6f89-4965-820b-41a52b3aa4fa",
   "metadata": {},
   "outputs": [],
   "source": []
  }
 ],
 "metadata": {
  "kernelspec": {
   "display_name": "Python 3 (ipykernel)",
   "language": "python",
   "name": "python3"
  },
  "language_info": {
   "codemirror_mode": {
    "name": "ipython",
    "version": 3
   },
   "file_extension": ".py",
   "mimetype": "text/x-python",
   "name": "python",
   "nbconvert_exporter": "python",
   "pygments_lexer": "ipython3",
   "version": "3.7.11"
  }
 },
 "nbformat": 4,
 "nbformat_minor": 5
}
